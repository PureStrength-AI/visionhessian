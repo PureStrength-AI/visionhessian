{
 "cells": [
  {
   "cell_type": "code",
   "execution_count": 18,
   "id": "f5f3cd4c",
   "metadata": {},
   "outputs": [],
   "source": [
    "import gpytorch\n",
    "import torch\n",
    "lanczos_iters = 4\n",
    "\n",
    "dimension = 1000\n",
    "M = torch.randn([dimension,dimension])\n",
    "M += M.T.clone()\n",
    "M = M/2\n",
    "\n",
    "v = torch.randn([dimension,])\n",
    "v_normalized = v / torch.norm(v, p=2)\n",
    "\n",
    "def Hess_Vec_Orig(M,v):\n",
    "    v_normalized = v / torch.norm(v, p=2)\n",
    "    return torch.matmul(M,v)\n",
    "\n",
    "def Hess_Vec(M):\n",
    "    def matvec(v):\n",
    "        v_normalized = v / torch.norm(v, p=2)\n",
    "        return torch.matmul(M, v_normalized)\n",
    "    return matvec\n",
    "\n",
    "P = M.shape[0]\n",
    "\n",
    "# Create the closure by calling Hess_Vec with matrix M\n",
    "matvec_closure = Hess_Vec(M)\n",
    "\n",
    "# Perform Lanczos tridiagonalization using the closure\n",
    "Q, T_gpy = gpytorch.utils.lanczos.lanczos_tridiag(\n",
    "    matvec_closure,\n",
    "    max_iter=lanczos_iters,\n",
    "    dtype=torch.float32,\n",
    "    device='cpu',\n",
    "    matrix_shape=(P, P)\n",
    ")\n",
    "\n",
    "\n",
    "T = torch.zeros([lanczos_iters, lanczos_iters])\n",
    "r = torch.randn([dimension,])\n",
    "q_old = torch.zeros_like(r)  # Ensure q_old is a vector of the same size as r\n",
    "b = torch.norm(r, p=2)\n",
    "u_list = []\n",
    "for i in range(lanczos_iters):\n",
    "    q = r / b\n",
    "    u_list.append(q)\n",
    "    u = Hess_Vec_Orig(M, q) - b * q_old\n",
    "    alpha = torch.dot(u, q)\n",
    "    T[i, i] = alpha\n",
    "    r = u - alpha * q\n",
    "    b = torch.norm(r, p=2)\n",
    "    if i < lanczos_iters - 1:\n",
    "        T[i, i+1] = b\n",
    "        T[i+1, i] = b\n",
    "    q_old = q\n",
    "\n"
   ]
  },
  {
   "cell_type": "code",
   "execution_count": 19,
   "id": "237614de",
   "metadata": {},
   "outputs": [
    {
     "data": {
      "text/plain": [
       "tensor([[-0.3018, 22.6018,  0.0000,  0.0000],\n",
       "        [22.6018, -0.5476, 22.5839,  0.0000],\n",
       "        [ 0.0000, 22.5839, -1.2324, 22.9455],\n",
       "        [ 0.0000,  0.0000, 22.9455,  0.7973]])"
      ]
     },
     "execution_count": 19,
     "metadata": {},
     "output_type": "execute_result"
    }
   ],
   "source": [
    "T_gpy"
   ]
  },
  {
   "cell_type": "code",
   "execution_count": 20,
   "id": "a0472e2c",
   "metadata": {},
   "outputs": [
    {
     "data": {
      "text/plain": [
       "tensor([[-0.6966, 22.6621,  0.0000,  0.0000],\n",
       "        [22.6621, -0.0993, 21.3406,  0.0000],\n",
       "        [ 0.0000, 21.3406, -1.5888, 22.8501],\n",
       "        [ 0.0000,  0.0000, 22.8501, -0.8242]])"
      ]
     },
     "execution_count": 20,
     "metadata": {},
     "output_type": "execute_result"
    }
   ],
   "source": [
    "T"
   ]
  },
  {
   "cell_type": "code",
   "execution_count": 28,
   "id": "20d32275",
   "metadata": {},
   "outputs": [
    {
     "name": "stdout",
     "output_type": "stream",
     "text": [
      "0\n",
      "tensor(4.6566e-09)\n",
      "tensor(-3.2596e-08)\n",
      "tensor(-7.4506e-09)\n",
      "1\n",
      "tensor(-5.5879e-09)\n",
      "tensor(-1.4901e-08)\n",
      "2\n",
      "tensor(-5.5879e-09)\n",
      "3\n"
     ]
    }
   ],
   "source": [
    "for i in range(lanczos_iters):\n",
    "    print(i)\n",
    "    for j in range(i+1,lanczos_iters):\n",
    "        print(torch.dot(u_list[i],u_list[j]))"
   ]
  }
 ],
 "metadata": {
  "kernelspec": {
   "display_name": "Python 3 (ipykernel)",
   "language": "python",
   "name": "python3"
  },
  "language_info": {
   "codemirror_mode": {
    "name": "ipython",
    "version": 3
   },
   "file_extension": ".py",
   "mimetype": "text/x-python",
   "name": "python",
   "nbconvert_exporter": "python",
   "pygments_lexer": "ipython3",
   "version": "3.11.5"
  }
 },
 "nbformat": 4,
 "nbformat_minor": 5
}
