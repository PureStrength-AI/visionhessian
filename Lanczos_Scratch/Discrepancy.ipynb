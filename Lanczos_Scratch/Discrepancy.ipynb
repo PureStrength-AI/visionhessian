{
 "cells": [
  {
   "cell_type": "code",
   "execution_count": 43,
   "id": "48b2e507",
   "metadata": {},
   "outputs": [],
   "source": [
    "torch.manual_seed(42)\n",
    "\n",
    "\n",
    "dimension = 1000\n",
    "M = torch.randn([dimension,dimension])\n",
    "M += M.T.clone()\n",
    "M = M/2\n",
    "\n",
    "v = torch.randn([dimension,])\n",
    "v_normalized = v / torch.norm(v, p=2)\n"
   ]
  },
  {
   "cell_type": "code",
   "execution_count": 61,
   "id": "f5f3cd4c",
   "metadata": {},
   "outputs": [],
   "source": [
    "import gpytorch\n",
    "import torch\n",
    "lanczos_iters = 2\n",
    "\n",
    "def Hess_Vec_Orig(M,v):\n",
    "#     v_normalized = v / torch.norm(v, p=2)\n",
    "    return torch.matmul(M,v)\n",
    "\n",
    "def Hess_Vec(M):\n",
    "    def matvec(v):\n",
    "#         v_normalized = v / torch.norm(v, p=2)\n",
    "        return torch.matmul(M, v)\n",
    "    return matvec\n",
    "\n",
    "P = M.shape[0]\n",
    "\n",
    "# Create the closure by calling Hess_Vec with matrix M\n",
    "matvec_closure = Hess_Vec(M)\n",
    "\n",
    "# Perform Lanczos tridiagonalization using the closure\n",
    "Q, T_gpy = gpytorch.utils.lanczos.lanczos_tridiag(\n",
    "    matvec_closure,\n",
    "    max_iter=lanczos_iters,\n",
    "    dtype=torch.float32,\n",
    "    device='cpu',\n",
    "    matrix_shape=(P, P)\n",
    ")\n",
    "\n",
    "\n",
    "T = torch.zeros([lanczos_iters, lanczos_iters])\n",
    "# r = torch.randn([dimension,])\n",
    "r = v[:]\n",
    "q_old = torch.zeros_like(r)  # Ensure q_old is a vector of the same size as r\n",
    "b = torch.norm(r, p=2)\n",
    "u_list = []\n",
    "for i in range(lanczos_iters):\n",
    "    q = r / b\n",
    "    u_list.append(q)\n",
    "    u = Hess_Vec_Orig(M, q) - b * q_old\n",
    "    alpha = torch.dot(u, q)\n",
    "    T[i, i] = alpha\n",
    "    r = u - alpha * q\n",
    "    \n",
    "    for j in range(len(u_list)):\n",
    "        r -= torch.dot(r, u_list[j]) * u_list[j]\n",
    "    \n",
    "    b = torch.norm(r, p=2)\n",
    "    if i < lanczos_iters - 1:\n",
    "        T[i, i+1] = b\n",
    "        T[i+1, i] = b\n",
    "    q_old = q\n",
    "    \n",
    "    if b < 1e-6:\n",
    "        break\n",
    "\n",
    "\n"
   ]
  },
  {
   "cell_type": "code",
   "execution_count": 62,
   "id": "237614de",
   "metadata": {},
   "outputs": [
    {
     "name": "stdout",
     "output_type": "stream",
     "text": [
      "tensor([[ 0.3130, 23.6814],\n",
      "        [23.6814, -1.4521]])\n"
     ]
    },
    {
     "data": {
      "text/plain": [
       "torch.return_types.linalg_eigh(\n",
       "eigenvalues=tensor([-24.2674,  23.1283]),\n",
       "eigenvectors=tensor([[-0.6938, -0.7202],\n",
       "        [ 0.7202, -0.6938]]))"
      ]
     },
     "execution_count": 62,
     "metadata": {},
     "output_type": "execute_result"
    }
   ],
   "source": [
    "print(T_gpy)\n",
    "torch.linalg.eigh(T_gpy)"
   ]
  },
  {
   "cell_type": "code",
   "execution_count": 63,
   "id": "a0472e2c",
   "metadata": {},
   "outputs": [
    {
     "name": "stdout",
     "output_type": "stream",
     "text": [
      "tensor([[-0.6388, 22.2502],\n",
      "        [22.2502, -1.2837]])\n"
     ]
    },
    {
     "data": {
      "text/plain": [
       "torch.return_types.linalg_eigh(\n",
       "eigenvalues=tensor([-23.2138,  21.2912]),\n",
       "eigenvectors=tensor([[-0.7020, -0.7122],\n",
       "        [ 0.7122, -0.7020]]))"
      ]
     },
     "execution_count": 63,
     "metadata": {},
     "output_type": "execute_result"
    }
   ],
   "source": [
    "print(T)\n",
    "torch.linalg.eigh(T)"
   ]
  },
  {
   "cell_type": "code",
   "execution_count": 8,
   "id": "20d32275",
   "metadata": {},
   "outputs": [
    {
     "name": "stdout",
     "output_type": "stream",
     "text": [
      "0\n",
      "tensor(-5.5879e-09)\n",
      "tensor(1.1176e-08)\n",
      "tensor(3.7253e-09)\n",
      "1\n",
      "tensor(9.3132e-09)\n",
      "tensor(4.6566e-09)\n",
      "2\n",
      "tensor(9.3132e-10)\n",
      "3\n"
     ]
    }
   ],
   "source": [
    "for i in range(lanczos_iters):\n",
    "    print(i)\n",
    "    for j in range(i+1,lanczos_iters):\n",
    "        print(torch.dot(u_list[i],u_list[j]))"
   ]
  },
  {
   "cell_type": "code",
   "execution_count": 12,
   "id": "28463cff",
   "metadata": {},
   "outputs": [],
   "source": [
    "v = torch.randn([dimension,])\n",
    "assert torch.allclose(Hess_Vec_Orig(M, v), matvec_closure(v))\n"
   ]
  },
  {
   "cell_type": "code",
   "execution_count": 13,
   "id": "3fa248bd",
   "metadata": {},
   "outputs": [
    {
     "data": {
      "text/plain": [
       "True"
      ]
     },
     "execution_count": 13,
     "metadata": {},
     "output_type": "execute_result"
    }
   ],
   "source": [
    "torch.allclose(Hess_Vec_Orig(M, v), matvec_closure(v))"
   ]
  },
  {
   "cell_type": "code",
   "execution_count": null,
   "id": "8c7d03bb",
   "metadata": {},
   "outputs": [],
   "source": []
  }
 ],
 "metadata": {
  "kernelspec": {
   "display_name": "Python 3 (ipykernel)",
   "language": "python",
   "name": "python3"
  },
  "language_info": {
   "codemirror_mode": {
    "name": "ipython",
    "version": 3
   },
   "file_extension": ".py",
   "mimetype": "text/x-python",
   "name": "python",
   "nbconvert_exporter": "python",
   "pygments_lexer": "ipython3",
   "version": "3.11.5"
  }
 },
 "nbformat": 4,
 "nbformat_minor": 5
}
